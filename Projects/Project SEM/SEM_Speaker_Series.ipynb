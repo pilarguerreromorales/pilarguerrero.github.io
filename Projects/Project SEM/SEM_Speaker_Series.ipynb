{
 "cells": [
  {
   "cell_type": "markdown",
   "id": "e6382f33",
   "metadata": {},
   "source": [
    "# Final Project: Speaker Series SEM"
   ]
  },
  {
   "cell_type": "markdown",
   "id": "dd9de932",
   "metadata": {},
   "source": [
    "## Import Modules"
   ]
  },
  {
   "cell_type": "markdown",
   "id": "44d843ff",
   "metadata": {},
   "source": [
    "**SEMOPY**\n",
    "\n",
    "Semopy is a versatile and user-friendly library for Structural Equation Modeling (SEM) It provides an intuitive syntax for specifying complex SEM models, making it accessible for both beginners and experienced users."
   ]
  },
  {
   "cell_type": "code",
   "execution_count": 1,
   "id": "d4c14fdb",
   "metadata": {},
   "outputs": [
    {
     "name": "stdout",
     "output_type": "stream",
     "text": [
      "Requirement already satisfied: semopy in /Users/pilar/anaconda3/lib/python3.11/site-packages (2.3.10)\n",
      "Requirement already satisfied: scipy in /Users/pilar/anaconda3/lib/python3.11/site-packages (from semopy) (1.10.1)\n",
      "Requirement already satisfied: numpy in /Users/pilar/anaconda3/lib/python3.11/site-packages (from semopy) (1.24.3)\n",
      "Requirement already satisfied: pandas in /Users/pilar/anaconda3/lib/python3.11/site-packages (from semopy) (1.5.3)\n",
      "Requirement already satisfied: sympy in /Users/pilar/anaconda3/lib/python3.11/site-packages (from semopy) (1.11.1)\n",
      "Requirement already satisfied: scikit-learn in /Users/pilar/anaconda3/lib/python3.11/site-packages (from semopy) (1.3.0)\n",
      "Requirement already satisfied: statsmodels in /Users/pilar/anaconda3/lib/python3.11/site-packages (from semopy) (0.14.0)\n",
      "Requirement already satisfied: numdifftools in /Users/pilar/anaconda3/lib/python3.11/site-packages (from semopy) (0.9.41)\n",
      "Requirement already satisfied: python-dateutil>=2.8.1 in /Users/pilar/anaconda3/lib/python3.11/site-packages (from pandas->semopy) (2.8.2)\n",
      "Requirement already satisfied: pytz>=2020.1 in /Users/pilar/anaconda3/lib/python3.11/site-packages (from pandas->semopy) (2022.7)\n",
      "Requirement already satisfied: joblib>=1.1.1 in /Users/pilar/anaconda3/lib/python3.11/site-packages (from scikit-learn->semopy) (1.2.0)\n",
      "Requirement already satisfied: threadpoolctl>=2.0.0 in /Users/pilar/anaconda3/lib/python3.11/site-packages (from scikit-learn->semopy) (2.2.0)\n",
      "Requirement already satisfied: patsy>=0.5.2 in /Users/pilar/anaconda3/lib/python3.11/site-packages (from statsmodels->semopy) (0.5.3)\n",
      "Requirement already satisfied: packaging>=21.3 in /Users/pilar/anaconda3/lib/python3.11/site-packages (from statsmodels->semopy) (23.0)\n",
      "Requirement already satisfied: mpmath>=0.19 in /Users/pilar/anaconda3/lib/python3.11/site-packages (from sympy->semopy) (1.3.0)\n",
      "Requirement already satisfied: six in /Users/pilar/anaconda3/lib/python3.11/site-packages (from patsy>=0.5.2->statsmodels->semopy) (1.16.0)\n",
      "Note: you may need to restart the kernel to use updated packages.\n"
     ]
    }
   ],
   "source": [
    "pip install semopy"
   ]
  },
  {
   "cell_type": "code",
   "execution_count": 2,
   "id": "7ebcdbe3",
   "metadata": {},
   "outputs": [],
   "source": [
    "import pandas as pd\n",
    "import semopy as sem\n",
    "import graphviz\n",
    "from IPython.display import Image, display\n",
    "\n",
    "from semopy import Model\n",
    "import pandas as pd\n",
    "import seaborn as sns\n",
    "import matplotlib.pyplot as plt\n",
    "%matplotlib inline\n",
    "from semopy import Optimizer\n",
    "from semopy.inspector import inspect\n",
    "from semopy.stats import calc_gfi, gather_statistics"
   ]
  },
  {
   "cell_type": "markdown",
   "id": "e3f4d94b",
   "metadata": {},
   "source": [
    "## Understanding The dataset: HBAT"
   ]
  },
  {
   "cell_type": "markdown",
   "id": "3870055d",
   "metadata": {},
   "source": [
    "- HBAT employs thousands of workers in different operations around the world.\n",
    "- Like many firms, one of its biggest management problems is attracting and keeping productive employees and the cost to replace and retrain employees is high. \n",
    "\n",
    "**QUESTION OF STUDY**:  HBAT management would like to understand the factors that contribute to employee retention. A better understanding can be gained by learning how to measure the key constructs that favour employee retention. Thus, HBAT is interested in developing and testing a measurement model made up of constructs that affect employees’ attitudes and behaviors about remaining with HBAT."
   ]
  },
  {
   "cell_type": "code",
   "execution_count": 3,
   "id": "aa8976d0",
   "metadata": {},
   "outputs": [],
   "source": [
    "import pandas as pd\n",
    "import pyreadstat\n",
    "df = pd.read_spss(\"data/HBAT_SEM_NOMISSING.sav\")"
   ]
  },
  {
   "cell_type": "markdown",
   "id": "b645ad5a",
   "metadata": {},
   "source": [
    "### Defining Individual Constructs\n",
    "Based on published literature and some preliminary interviews with employees, a study was designed focusing on five key constructs. The consulting team and HBAT management also agreed on construct definitions based on how they have been used in the past. The five constructs along with a working definition are as follows:"
   ]
  },
  {
   "cell_type": "markdown",
   "id": "c297d7b1",
   "metadata": {},
   "source": [
    "\n",
    "● **Job Satisfaction (JS)**. Reactions resulting from an appraisal of one’s job situation.\n",
    "\n",
    "● **Organizational Commitment** (OC). The extent to which an employee identifies and feels part of HBAT.\n",
    "\n",
    "● **Staying Intentions (SI).** The extent to which an employee intends to continue working for HBAT and is not\n",
    "participating in activities that make quitting more likely.\n",
    "\n",
    "● **Environmental Perceptions (EP).** Beliefs an employee has about day-to-day, physical working conditions.\n",
    "\n",
    "● **Attitudes Toward Coworkers (AC).** Attitudes an employee has toward the coworkers he/she interacts with on\n",
    "a regular basis."
   ]
  },
  {
   "cell_type": "markdown",
   "id": "16c699fc",
   "metadata": {},
   "source": [
    "In order to gain insights to this constructs HBAT carried out a survey to 300 employees which resulted in different metrics which insighted about each specific construct. For example the job satisfaction scale contains multiple measures each assessing the degree of satisfaction felt by respondents with a different type of scale. "
   ]
  },
  {
   "cell_type": "code",
   "execution_count": 4,
   "id": "259e5b3c",
   "metadata": {
    "scrolled": true
   },
   "outputs": [
    {
     "data": {
      "text/html": [
       "<div>\n",
       "<style scoped>\n",
       "    .dataframe tbody tr th:only-of-type {\n",
       "        vertical-align: middle;\n",
       "    }\n",
       "\n",
       "    .dataframe tbody tr th {\n",
       "        vertical-align: top;\n",
       "    }\n",
       "\n",
       "    .dataframe thead th {\n",
       "        text-align: right;\n",
       "    }\n",
       "</style>\n",
       "<table border=\"1\" class=\"dataframe\">\n",
       "  <thead>\n",
       "    <tr style=\"text-align: right;\">\n",
       "      <th></th>\n",
       "      <th>id</th>\n",
       "      <th>JS1</th>\n",
       "      <th>OC1</th>\n",
       "      <th>OC2</th>\n",
       "      <th>EP1</th>\n",
       "      <th>OC3</th>\n",
       "      <th>OC4</th>\n",
       "      <th>EP2</th>\n",
       "      <th>EP3</th>\n",
       "      <th>AC1</th>\n",
       "      <th>...</th>\n",
       "      <th>C2</th>\n",
       "      <th>C3</th>\n",
       "      <th>AGE</th>\n",
       "      <th>EXP</th>\n",
       "      <th>JP</th>\n",
       "      <th>JS</th>\n",
       "      <th>OC</th>\n",
       "      <th>SI</th>\n",
       "      <th>EP</th>\n",
       "      <th>AC</th>\n",
       "    </tr>\n",
       "  </thead>\n",
       "  <tbody>\n",
       "    <tr>\n",
       "      <th>0</th>\n",
       "      <td>1.0</td>\n",
       "      <td>5.0</td>\n",
       "      <td>3.0</td>\n",
       "      <td>5.0</td>\n",
       "      <td>Strongly Agree</td>\n",
       "      <td>Strongly Agree</td>\n",
       "      <td>Strongly Agree</td>\n",
       "      <td>Strongly Agree</td>\n",
       "      <td>5.0</td>\n",
       "      <td>Not Happy</td>\n",
       "      <td>...</td>\n",
       "      <td>Part Time</td>\n",
       "      <td>USA</td>\n",
       "      <td>42.039135</td>\n",
       "      <td>6.00</td>\n",
       "      <td>Very High Performance</td>\n",
       "      <td>-0.224992</td>\n",
       "      <td>-0.363894</td>\n",
       "      <td>-0.369676</td>\n",
       "      <td>NaN</td>\n",
       "      <td>-1.294571</td>\n",
       "    </tr>\n",
       "    <tr>\n",
       "      <th>1</th>\n",
       "      <td>2.0</td>\n",
       "      <td>3.0</td>\n",
       "      <td>Strongly Disagree</td>\n",
       "      <td>5.0</td>\n",
       "      <td>Strongly Agree</td>\n",
       "      <td>3.0</td>\n",
       "      <td>7.0</td>\n",
       "      <td>Strongly Agree</td>\n",
       "      <td>Strongly Agree</td>\n",
       "      <td>Somewhat Happy</td>\n",
       "      <td>...</td>\n",
       "      <td>Full Time</td>\n",
       "      <td>USA</td>\n",
       "      <td>32.186862</td>\n",
       "      <td>5.75</td>\n",
       "      <td>Somewhat Higher performance</td>\n",
       "      <td>-0.554785</td>\n",
       "      <td>-1.660889</td>\n",
       "      <td>0.388158</td>\n",
       "      <td>0.867896</td>\n",
       "      <td>-1.256848</td>\n",
       "    </tr>\n",
       "    <tr>\n",
       "      <th>2</th>\n",
       "      <td>3.0</td>\n",
       "      <td>4.0</td>\n",
       "      <td>6.0</td>\n",
       "      <td>Strongly Agree</td>\n",
       "      <td>Strongly Agree</td>\n",
       "      <td>Strongly Agree</td>\n",
       "      <td>Strongly Agree</td>\n",
       "      <td>Strongly Agree</td>\n",
       "      <td>Strongly Agree</td>\n",
       "      <td>Not Happy</td>\n",
       "      <td>...</td>\n",
       "      <td>Full Time</td>\n",
       "      <td>USA</td>\n",
       "      <td>42.773742</td>\n",
       "      <td>1.00</td>\n",
       "      <td>Very High Performance</td>\n",
       "      <td>-0.515937</td>\n",
       "      <td>0.780682</td>\n",
       "      <td>1.281288</td>\n",
       "      <td>0.867896</td>\n",
       "      <td>-0.827400</td>\n",
       "    </tr>\n",
       "    <tr>\n",
       "      <th>3</th>\n",
       "      <td>4.0</td>\n",
       "      <td>4.0</td>\n",
       "      <td>7.0</td>\n",
       "      <td>7.0</td>\n",
       "      <td>Strongly Agree</td>\n",
       "      <td>Strongly Agree</td>\n",
       "      <td>7.0</td>\n",
       "      <td>Strongly Agree</td>\n",
       "      <td>9.0</td>\n",
       "      <td>Somewhat Happy</td>\n",
       "      <td>...</td>\n",
       "      <td>Part Time</td>\n",
       "      <td>USA</td>\n",
       "      <td>26.225984</td>\n",
       "      <td>3.00</td>\n",
       "      <td>Very High Performance</td>\n",
       "      <td>-0.131013</td>\n",
       "      <td>-0.329977</td>\n",
       "      <td>0.222363</td>\n",
       "      <td>0.659377</td>\n",
       "      <td>-1.256848</td>\n",
       "    </tr>\n",
       "    <tr>\n",
       "      <th>4</th>\n",
       "      <td>5.0</td>\n",
       "      <td>5.0</td>\n",
       "      <td>2.0</td>\n",
       "      <td>Strongly Agree</td>\n",
       "      <td>Strongly Agree</td>\n",
       "      <td>9.0</td>\n",
       "      <td>9.0</td>\n",
       "      <td>9.0</td>\n",
       "      <td>Strongly Agree</td>\n",
       "      <td>Not Happy</td>\n",
       "      <td>...</td>\n",
       "      <td>Full Time</td>\n",
       "      <td>USA</td>\n",
       "      <td>36.921312</td>\n",
       "      <td>14.00</td>\n",
       "      <td>Very High Performance</td>\n",
       "      <td>0.001167</td>\n",
       "      <td>0.321448</td>\n",
       "      <td>0.641472</td>\n",
       "      <td>0.435376</td>\n",
       "      <td>-1.086308</td>\n",
       "    </tr>\n",
       "  </tbody>\n",
       "</table>\n",
       "<p>5 rows × 33 columns</p>\n",
       "</div>"
      ],
      "text/plain": [
       "    id  JS1                OC1             OC2             EP1  \\\n",
       "0  1.0  5.0                3.0             5.0  Strongly Agree   \n",
       "1  2.0  3.0  Strongly Disagree             5.0  Strongly Agree   \n",
       "2  3.0  4.0                6.0  Strongly Agree  Strongly Agree   \n",
       "3  4.0  4.0                7.0             7.0  Strongly Agree   \n",
       "4  5.0  5.0                2.0  Strongly Agree  Strongly Agree   \n",
       "\n",
       "              OC3             OC4             EP2             EP3  \\\n",
       "0  Strongly Agree  Strongly Agree  Strongly Agree             5.0   \n",
       "1             3.0             7.0  Strongly Agree  Strongly Agree   \n",
       "2  Strongly Agree  Strongly Agree  Strongly Agree  Strongly Agree   \n",
       "3  Strongly Agree             7.0  Strongly Agree             9.0   \n",
       "4             9.0             9.0             9.0  Strongly Agree   \n",
       "\n",
       "              AC1  ...         C2   C3        AGE    EXP  \\\n",
       "0       Not Happy  ...  Part Time  USA  42.039135   6.00   \n",
       "1  Somewhat Happy  ...  Full Time  USA  32.186862   5.75   \n",
       "2       Not Happy  ...  Full Time  USA  42.773742   1.00   \n",
       "3  Somewhat Happy  ...  Part Time  USA  26.225984   3.00   \n",
       "4       Not Happy  ...  Full Time  USA  36.921312  14.00   \n",
       "\n",
       "                            JP        JS        OC        SI        EP  \\\n",
       "0        Very High Performance -0.224992 -0.363894 -0.369676       NaN   \n",
       "1  Somewhat Higher performance -0.554785 -1.660889  0.388158  0.867896   \n",
       "2        Very High Performance -0.515937  0.780682  1.281288  0.867896   \n",
       "3        Very High Performance -0.131013 -0.329977  0.222363  0.659377   \n",
       "4        Very High Performance  0.001167  0.321448  0.641472  0.435376   \n",
       "\n",
       "         AC  \n",
       "0 -1.294571  \n",
       "1 -1.256848  \n",
       "2 -0.827400  \n",
       "3 -1.256848  \n",
       "4 -1.086308  \n",
       "\n",
       "[5 rows x 33 columns]"
      ]
     },
     "execution_count": 4,
     "metadata": {},
     "output_type": "execute_result"
    }
   ],
   "source": [
    "df.head()"
   ]
  },
  {
   "cell_type": "code",
   "execution_count": 5,
   "id": "5da9ae10",
   "metadata": {},
   "outputs": [
    {
     "data": {
      "text/plain": [
       "(400, 33)"
      ]
     },
     "execution_count": 5,
     "metadata": {},
     "output_type": "execute_result"
    }
   ],
   "source": [
    "df.shape"
   ]
  },
  {
   "cell_type": "markdown",
   "id": "e0861b6e",
   "metadata": {},
   "source": [
    "\n",
    "<img src=\"Screenshot%202023-11-15%20at%2013.14.23.png\" width=600 height=600 align=\"center\">"
   ]
  },
  {
   "cell_type": "markdown",
   "id": "b273c1f6",
   "metadata": {},
   "source": [
    "## Data Cleaning/ Handling"
   ]
  },
  {
   "cell_type": "markdown",
   "id": "1642f7dd",
   "metadata": {},
   "source": [
    "**Missing Values**"
   ]
  },
  {
   "cell_type": "code",
   "execution_count": 6,
   "id": "dc93a735",
   "metadata": {},
   "outputs": [
    {
     "data": {
      "text/plain": [
       "id     0\n",
       "JS1    0\n",
       "OC1    0\n",
       "OC2    0\n",
       "EP1    0\n",
       "OC3    0\n",
       "OC4    0\n",
       "EP2    0\n",
       "EP3    0\n",
       "AC1    0\n",
       "EP4    0\n",
       "JS2    0\n",
       "JS3    0\n",
       "AC2    0\n",
       "SI1    0\n",
       "JS4    0\n",
       "SI2    0\n",
       "JS5    0\n",
       "AC3    0\n",
       "SI3    0\n",
       "AC4    0\n",
       "SI4    0\n",
       "C1     0\n",
       "C2     0\n",
       "C3     0\n",
       "AGE    1\n",
       "EXP    1\n",
       "JP     1\n",
       "JS     0\n",
       "OC     0\n",
       "SI     0\n",
       "EP     1\n",
       "AC     1\n",
       "dtype: int64"
      ]
     },
     "execution_count": 6,
     "metadata": {},
     "output_type": "execute_result"
    }
   ],
   "source": [
    "df.isna().sum()"
   ]
  },
  {
   "cell_type": "code",
   "execution_count": 7,
   "id": "25b133b4",
   "metadata": {},
   "outputs": [],
   "source": [
    "df = df.dropna() # NO MORE MISSING VALUES"
   ]
  },
  {
   "cell_type": "markdown",
   "id": "032eb14c",
   "metadata": {},
   "source": [
    "**Deal with non dummified variables**"
   ]
  },
  {
   "cell_type": "code",
   "execution_count": 8,
   "id": "3a0f9623",
   "metadata": {},
   "outputs": [
    {
     "data": {
      "text/plain": [
       "id      float64\n",
       "JS1    category\n",
       "OC1    category\n",
       "OC2    category\n",
       "EP1    category\n",
       "OC3    category\n",
       "OC4    category\n",
       "EP2    category\n",
       "EP3    category\n",
       "AC1    category\n",
       "EP4    category\n",
       "JS2    category\n",
       "JS3    category\n",
       "AC2    category\n",
       "SI1    category\n",
       "JS4    category\n",
       "SI2    category\n",
       "JS5    category\n",
       "AC3    category\n",
       "SI3    category\n",
       "AC4    category\n",
       "SI4    category\n",
       "C1     category\n",
       "C2     category\n",
       "C3     category\n",
       "AGE     float64\n",
       "EXP     float64\n",
       "JP     category\n",
       "JS      float64\n",
       "OC      float64\n",
       "SI      float64\n",
       "EP      float64\n",
       "AC      float64\n",
       "dtype: object"
      ]
     },
     "execution_count": 8,
     "metadata": {},
     "output_type": "execute_result"
    }
   ],
   "source": [
    "df.dtypes"
   ]
  },
  {
   "cell_type": "code",
   "execution_count": 9,
   "id": "bdd3f921",
   "metadata": {},
   "outputs": [
    {
     "name": "stdout",
     "output_type": "stream",
     "text": [
      "Unique values for JS1: [3.0, 4.0, 5.0, 6.0, 2.0, 7.0, 1.0]\n",
      "Categories (7, float64): [1.0, 2.0, 3.0, 4.0, 5.0, 6.0, 7.0]\n",
      "Unique values for OC1: ['Strongly Disagree', 6.0, 7.0, 2.0, 5.0, ..., 9.0, 1.0, 3.0, 8.0, 'Strongly Agree']\n",
      "Length: 11\n",
      "Categories (11, object): [1.0, 2.0, 3.0, 4.0, ..., 8.0, 9.0, 'Strongly Agree', 'Strongly Disagree']\n",
      "Unique values for OC2: [5.0, 'Strongly Agree', 7.0, 8.0, 9.0, ..., 3.0, 2.0, 6.0, 4.0, 1.0]\n",
      "Length: 11\n",
      "Categories (11, object): [1.0, 2.0, 3.0, 4.0, ..., 8.0, 9.0, 'Strongly Agree', 'Strongly Disagree']\n",
      "Unique values for EP1: ['Strongly Agree', 8.0, 9.0, 'Strongly Disagree', 7.0, 5.0, 3.0, 6.0, 2.0, 4.0]\n",
      "Categories (10, object): [2.0, 3.0, 4.0, 5.0, ..., 8.0, 9.0, 'Strongly Agree', 'Strongly Disagree']\n",
      "Unique values for OC3: [3.0, 'Strongly Agree', 9.0, 7.0, 6.0, ..., 4.0, 5.0, 1.0, 'Strongly Disagree', 2.0]\n",
      "Length: 11\n",
      "Categories (11, object): [1.0, 2.0, 3.0, 4.0, ..., 8.0, 9.0, 'Strongly Agree', 'Strongly Disagree']\n",
      "Unique values for OC4: [7.0, 'Strongly Agree', 9.0, 6.0, 8.0, ..., 5.0, 3.0, 2.0, 'Strongly Disagree', 1.0]\n",
      "Length: 11\n",
      "Categories (11, object): [1.0, 2.0, 3.0, 4.0, ..., 8.0, 9.0, 'Strongly Agree', 'Strongly Disagree']\n",
      "Unique values for EP2: ['Strongly Agree', 9.0, 6.0, 8.0, 4.0, ..., 1.0, 3.0, 5.0, 'Strongly Disagree', 2.0]\n",
      "Length: 11\n",
      "Categories (11, object): [1.0, 2.0, 3.0, 4.0, ..., 8.0, 9.0, 'Strongly Agree', 'Strongly Disagree']\n",
      "Unique values for EP3: ['Strongly Agree', 9.0, 7.0, 8.0, 5.0, 6.0, 'Strongly Disagree']\n",
      "Categories (7, object): [5.0, 6.0, 7.0, 8.0, 9.0, 'Strongly Agree', 'Strongly Disagree']\n",
      "Unique values for AC1: ['Somewhat Happy', 'Not Happy', 'Happy', 'Very Happy', 'Extremely Happy']\n",
      "Categories (5, object): ['Extremely Happy', 'Happy', 'Not Happy', 'Somewhat Happy', 'Very Happy']\n",
      "Unique values for EP4: ['Very Soothing', 6.0, 3.0, 5.0, 4.0, 2.0, 'Too Hectic']\n",
      "Categories (7, object): [2.0, 3.0, 4.0, 5.0, 6.0, 'Too Hectic', 'Very Soothing']\n",
      "Unique values for JS2: [4.0, 2.0, 5.0, 6.0, 3.0, 'Very Much Satisfied', 'Not At All Satisfied']\n",
      "Categories (7, object): [2.0, 3.0, 4.0, 5.0, 6.0, 'Not At All Satisfied', 'Very Much Satisfied']\n",
      "Unique values for JS3: [3.0, 2.0, 4.0, 5.0, 6.0, 'Very      dissatisfied']\n",
      "Categories (6, object): [2.0, 3.0, 4.0, 5.0, 6.0, 'Very      dissatisfied']\n",
      "Unique values for AC2: ['Very Unfavorable', 4.0, 2.0, 5.0, 3.0, 6.0]\n",
      "Categories (6, object): [2.0, 3.0, 4.0, 5.0, 6.0, 'Very Unfavorable']\n",
      "Unique values for SI1: ['Strongly Agree', 3.0, 4.0, 2.0, 'Strongly Disagree']\n",
      "Categories (5, object): [2.0, 3.0, 4.0, 'Strongly Agree', 'Strongly Disagree']\n",
      "Unique values for JS4: ['A Little Satisfied', 'Average Satisfaction', 'Satisfied A Lot', 'Not At All Satisfied', 'Very Much Satisfied']\n",
      "Categories (5, object): ['A Little Satisfied', 'Average Satisfaction', 'Not At All Satisfied', 'Satisfied A Lot', 'Very Much Satisfied']\n",
      "Unique values for SI2: [4.0, 'Strongly Agree', 3.0, 2.0, 'Strongly Disagree']\n",
      "Categories (5, object): [2.0, 3.0, 4.0, 'Strongly Agree', 'Strongly Disagree']\n",
      "Unique values for JS5: [42.617363, 60.477096, 33.418367, 57.538553, 61.943085, ..., 54.541665, 80.034858, 68.329768, 68.459926, 38.483163]\n",
      "Length: 394\n",
      "Categories (396, object): [7.58138, 9.511774, 9.678905, 10.980751, ..., 98.753657, 99.247109, 'Highly Satisfied', 'Not Satisfied At All']\n",
      "Unique values for AC3: ['Never', 'Rarely', 'Occasionally', 'Often', 'Very Often']\n",
      "Categories (5, object): ['Never', 'Occasionally', 'Often', 'Rarely', 'Very Often']\n",
      "Unique values for SI3: [4.0, 'Strongly Agree', 3.0, 2.0, 'Strongly Disagree']\n",
      "Categories (5, object): [2.0, 3.0, 4.0, 'Strongly Agree', 'Strongly Disagree']\n",
      "Unique values for AC4: ['Not AT All Similar', 2.0, 3.0, 4.0, 5.0, 'Very Similar']\n",
      "Categories (6, object): [2.0, 3.0, 4.0, 5.0, 'Not AT All Similar', 'Very Similar']\n",
      "Unique values for SI4: ['Likely', 'Very Likely', 'Somewhat Likely', 'Unlikely', 'Very Unlikely']\n",
      "Categories (5, object): ['Likely', 'Somewhat Likely', 'Unlikely', 'Very Likely', 'Very Unlikely']\n",
      "Unique values for C1: ['Female', 'Male']\n",
      "Categories (2, object): ['Female', 'Male']\n",
      "Unique values for C2: ['Full Time', 'Part Time']\n",
      "Categories (2, object): ['Full Time', 'Part Time']\n",
      "Unique values for C3: ['USA', 'Outside USA']\n",
      "Categories (2, object): ['Outside USA', 'USA']\n",
      "Unique values for JP: ['Somewhat Higher performance', 'Very High Performance', 'Average Performance', 'Somewhat Low Performance', 'Very Low Performance']\n",
      "Categories (5, object): ['Average Performance', 'Somewhat Higher performance', 'Somewhat Low Performance', 'Very High Performance', 'Very Low Performance']\n"
     ]
    },
    {
     "name": "stderr",
     "output_type": "stream",
     "text": [
      "/var/folders/br/09yt8syd075c91mf171jpwvw0000gp/T/ipykernel_24918/1215515238.py:5: FutureWarning: Index.ravel returning ndarray is deprecated; in a future version this will return a view on self.\n",
      "  print(f\"Unique values for {column}:\", unique_values)\n"
     ]
    }
   ],
   "source": [
    "categorical_columns = df.select_dtypes(include=['category']).columns\n",
    "\n",
    "for column in categorical_columns:\n",
    "    unique_values = df[column].unique()\n",
    "    print(f\"Unique values for {column}:\", unique_values)"
   ]
  },
  {
   "cell_type": "markdown",
   "id": "605b09ca",
   "metadata": {},
   "source": [
    "## ENCODE DATA"
   ]
  },
  {
   "cell_type": "code",
   "execution_count": 10,
   "id": "64a513c4",
   "metadata": {},
   "outputs": [],
   "source": [
    "import pandas as pd\n",
    "\n",
    "categorical_columns = ['JS1','JS2', 'JS3', 'JS4', 'JS5', 'OC1', 'OC2', 'OC3', 'OC4', 'EP1', 'EP2', 'EP3', 'EP4', 'AC1', 'AC2', 'AC3', 'AC4', 'SI1','SI2','SI3','SI4']\n",
    "encoded_df = df.copy()\n",
    "for column in categorical_columns:\n",
    "    encoded_df[f'{column}_encoded'] = df[column].cat.codes + 1 "
   ]
  },
  {
   "cell_type": "code",
   "execution_count": 11,
   "id": "ffd27a41",
   "metadata": {},
   "outputs": [],
   "source": [
    "columns_to_drop = ['JS1','JS2', 'JS3', 'JS4', 'JS5', 'OC1', 'OC2', 'OC3', 'OC4', 'EP1', 'EP2', 'EP3', 'EP4', 'AC1', 'AC2', 'AC3', 'AC4', 'SI1','SI2','SI3','SI4']\n",
    "df = encoded_df\n",
    "df = df.drop(columns=columns_to_drop)\n",
    "\n",
    "categorical_columns = df.select_dtypes(include=['category']).columns"
   ]
  },
  {
   "cell_type": "code",
   "execution_count": 12,
   "id": "6cc3aa84",
   "metadata": {},
   "outputs": [],
   "source": [
    "df.columns = df.columns.str.replace('_encoded', '')\n"
   ]
  },
  {
   "cell_type": "code",
   "execution_count": 13,
   "id": "7ad92b9d",
   "metadata": {},
   "outputs": [
    {
     "data": {
      "text/html": [
       "<div>\n",
       "<style scoped>\n",
       "    .dataframe tbody tr th:only-of-type {\n",
       "        vertical-align: middle;\n",
       "    }\n",
       "\n",
       "    .dataframe tbody tr th {\n",
       "        vertical-align: top;\n",
       "    }\n",
       "\n",
       "    .dataframe thead th {\n",
       "        text-align: right;\n",
       "    }\n",
       "</style>\n",
       "<table border=\"1\" class=\"dataframe\">\n",
       "  <thead>\n",
       "    <tr style=\"text-align: right;\">\n",
       "      <th></th>\n",
       "      <th>JS1</th>\n",
       "      <th>JS2</th>\n",
       "      <th>JS3</th>\n",
       "      <th>JS4</th>\n",
       "      <th>OC1</th>\n",
       "      <th>OC2</th>\n",
       "      <th>OC3</th>\n",
       "      <th>OC4</th>\n",
       "      <th>EP1</th>\n",
       "      <th>EP2</th>\n",
       "      <th>EP3</th>\n",
       "      <th>EP4</th>\n",
       "      <th>AC1</th>\n",
       "      <th>AC2</th>\n",
       "      <th>AC3</th>\n",
       "      <th>AC4</th>\n",
       "      <th>SI1</th>\n",
       "      <th>SI2</th>\n",
       "      <th>SI3</th>\n",
       "      <th>SI4</th>\n",
       "    </tr>\n",
       "  </thead>\n",
       "  <tbody>\n",
       "    <tr>\n",
       "      <th>1</th>\n",
       "      <td>3</td>\n",
       "      <td>3</td>\n",
       "      <td>2</td>\n",
       "      <td>1</td>\n",
       "      <td>11</td>\n",
       "      <td>5</td>\n",
       "      <td>3</td>\n",
       "      <td>7</td>\n",
       "      <td>9</td>\n",
       "      <td>10</td>\n",
       "      <td>6</td>\n",
       "      <td>7</td>\n",
       "      <td>4</td>\n",
       "      <td>6</td>\n",
       "      <td>1</td>\n",
       "      <td>5</td>\n",
       "      <td>4</td>\n",
       "      <td>3</td>\n",
       "      <td>3</td>\n",
       "      <td>1</td>\n",
       "    </tr>\n",
       "    <tr>\n",
       "      <th>2</th>\n",
       "      <td>4</td>\n",
       "      <td>1</td>\n",
       "      <td>1</td>\n",
       "      <td>2</td>\n",
       "      <td>6</td>\n",
       "      <td>10</td>\n",
       "      <td>10</td>\n",
       "      <td>10</td>\n",
       "      <td>9</td>\n",
       "      <td>10</td>\n",
       "      <td>6</td>\n",
       "      <td>7</td>\n",
       "      <td>3</td>\n",
       "      <td>3</td>\n",
       "      <td>1</td>\n",
       "      <td>1</td>\n",
       "      <td>4</td>\n",
       "      <td>4</td>\n",
       "      <td>4</td>\n",
       "      <td>4</td>\n",
       "    </tr>\n",
       "    <tr>\n",
       "      <th>3</th>\n",
       "      <td>4</td>\n",
       "      <td>4</td>\n",
       "      <td>3</td>\n",
       "      <td>1</td>\n",
       "      <td>7</td>\n",
       "      <td>7</td>\n",
       "      <td>10</td>\n",
       "      <td>7</td>\n",
       "      <td>9</td>\n",
       "      <td>10</td>\n",
       "      <td>5</td>\n",
       "      <td>7</td>\n",
       "      <td>4</td>\n",
       "      <td>6</td>\n",
       "      <td>1</td>\n",
       "      <td>5</td>\n",
       "      <td>4</td>\n",
       "      <td>3</td>\n",
       "      <td>2</td>\n",
       "      <td>1</td>\n",
       "    </tr>\n",
       "    <tr>\n",
       "      <th>4</th>\n",
       "      <td>5</td>\n",
       "      <td>3</td>\n",
       "      <td>2</td>\n",
       "      <td>1</td>\n",
       "      <td>2</td>\n",
       "      <td>10</td>\n",
       "      <td>9</td>\n",
       "      <td>9</td>\n",
       "      <td>9</td>\n",
       "      <td>9</td>\n",
       "      <td>6</td>\n",
       "      <td>5</td>\n",
       "      <td>3</td>\n",
       "      <td>6</td>\n",
       "      <td>4</td>\n",
       "      <td>1</td>\n",
       "      <td>4</td>\n",
       "      <td>4</td>\n",
       "      <td>2</td>\n",
       "      <td>1</td>\n",
       "    </tr>\n",
       "    <tr>\n",
       "      <th>5</th>\n",
       "      <td>6</td>\n",
       "      <td>5</td>\n",
       "      <td>4</td>\n",
       "      <td>2</td>\n",
       "      <td>5</td>\n",
       "      <td>8</td>\n",
       "      <td>7</td>\n",
       "      <td>7</td>\n",
       "      <td>7</td>\n",
       "      <td>10</td>\n",
       "      <td>3</td>\n",
       "      <td>7</td>\n",
       "      <td>3</td>\n",
       "      <td>1</td>\n",
       "      <td>1</td>\n",
       "      <td>5</td>\n",
       "      <td>4</td>\n",
       "      <td>3</td>\n",
       "      <td>2</td>\n",
       "      <td>2</td>\n",
       "    </tr>\n",
       "  </tbody>\n",
       "</table>\n",
       "</div>"
      ],
      "text/plain": [
       "   JS1  JS2  JS3  JS4  OC1  OC2  OC3  OC4  EP1  EP2  EP3  EP4  AC1  AC2  AC3  \\\n",
       "1    3    3    2    1   11    5    3    7    9   10    6    7    4    6    1   \n",
       "2    4    1    1    2    6   10   10   10    9   10    6    7    3    3    1   \n",
       "3    4    4    3    1    7    7   10    7    9   10    5    7    4    6    1   \n",
       "4    5    3    2    1    2   10    9    9    9    9    6    5    3    6    4   \n",
       "5    6    5    4    2    5    8    7    7    7   10    3    7    3    1    1   \n",
       "\n",
       "   AC4  SI1  SI2  SI3  SI4  \n",
       "1    5    4    3    3    1  \n",
       "2    1    4    4    4    4  \n",
       "3    5    4    3    2    1  \n",
       "4    1    4    4    2    1  \n",
       "5    5    4    3    2    2  "
      ]
     },
     "execution_count": 13,
     "metadata": {},
     "output_type": "execute_result"
    }
   ],
   "source": [
    "columns = ['JS1','JS2', 'JS3', 'JS4', 'OC1', 'OC2', 'OC3', 'OC4', 'EP1', 'EP2', 'EP3', 'EP4', 'AC1', 'AC2', 'AC3', 'AC4', 'SI1','SI2','SI3','SI4']\n",
    "df[columns].head()"
   ]
  },
  {
   "cell_type": "code",
   "execution_count": 14,
   "id": "6833327b",
   "metadata": {},
   "outputs": [
    {
     "data": {
      "text/html": [
       "<div>\n",
       "<style scoped>\n",
       "    .dataframe tbody tr th:only-of-type {\n",
       "        vertical-align: middle;\n",
       "    }\n",
       "\n",
       "    .dataframe tbody tr th {\n",
       "        vertical-align: top;\n",
       "    }\n",
       "\n",
       "    .dataframe thead th {\n",
       "        text-align: right;\n",
       "    }\n",
       "</style>\n",
       "<table border=\"1\" class=\"dataframe\">\n",
       "  <thead>\n",
       "    <tr style=\"text-align: right;\">\n",
       "      <th></th>\n",
       "      <th>JS</th>\n",
       "      <th>OC</th>\n",
       "      <th>EP</th>\n",
       "      <th>AC</th>\n",
       "      <th>SI</th>\n",
       "    </tr>\n",
       "  </thead>\n",
       "  <tbody>\n",
       "    <tr>\n",
       "      <th>1</th>\n",
       "      <td>-0.554785</td>\n",
       "      <td>-1.660889</td>\n",
       "      <td>0.867896</td>\n",
       "      <td>-1.256848</td>\n",
       "      <td>0.388158</td>\n",
       "    </tr>\n",
       "    <tr>\n",
       "      <th>2</th>\n",
       "      <td>-0.515937</td>\n",
       "      <td>0.780682</td>\n",
       "      <td>0.867896</td>\n",
       "      <td>-0.827400</td>\n",
       "      <td>1.281288</td>\n",
       "    </tr>\n",
       "    <tr>\n",
       "      <th>3</th>\n",
       "      <td>-0.131013</td>\n",
       "      <td>-0.329977</td>\n",
       "      <td>0.659377</td>\n",
       "      <td>-1.256848</td>\n",
       "      <td>0.222363</td>\n",
       "    </tr>\n",
       "    <tr>\n",
       "      <th>4</th>\n",
       "      <td>0.001167</td>\n",
       "      <td>0.321448</td>\n",
       "      <td>0.435376</td>\n",
       "      <td>-1.086308</td>\n",
       "      <td>0.641472</td>\n",
       "    </tr>\n",
       "    <tr>\n",
       "      <th>5</th>\n",
       "      <td>1.091082</td>\n",
       "      <td>-0.480619</td>\n",
       "      <td>0.048831</td>\n",
       "      <td>-1.294571</td>\n",
       "      <td>-0.085864</td>\n",
       "    </tr>\n",
       "  </tbody>\n",
       "</table>\n",
       "</div>"
      ],
      "text/plain": [
       "         JS        OC        EP        AC        SI\n",
       "1 -0.554785 -1.660889  0.867896 -1.256848  0.388158\n",
       "2 -0.515937  0.780682  0.867896 -0.827400  1.281288\n",
       "3 -0.131013 -0.329977  0.659377 -1.256848  0.222363\n",
       "4  0.001167  0.321448  0.435376 -1.086308  0.641472\n",
       "5  1.091082 -0.480619  0.048831 -1.294571 -0.085864"
      ]
     },
     "execution_count": 14,
     "metadata": {},
     "output_type": "execute_result"
    }
   ],
   "source": [
    "latentvariables = ['JS', 'OC', 'EP', 'AC', 'SI']\n",
    "df[latentvariables].head()"
   ]
  },
  {
   "cell_type": "markdown",
   "id": "1044d5dd",
   "metadata": {},
   "source": [
    "# SEM Methodology "
   ]
  },
  {
   "cell_type": "markdown",
   "id": "8ba2e1a4",
   "metadata": {},
   "source": [
    "Using semopy normally involves three steps:\n",
    "\n",
    "1. Define the model. \n",
    "2. Estimate the parameters of the model. \n",
    "3. Evaluate Fit "
   ]
  },
  {
   "cell_type": "markdown",
   "id": "9daeea9c",
   "metadata": {},
   "source": [
    "## 1. Define the model\n",
    "There are three parts:\n",
    "\n",
    "1. Measurement equations (relation between the latent variables and their observable measures). \n",
    "2. Structural equations. The equations based on theory relating the observed variables with the latent variables as well as other exogenou variables. \n",
    "3. Additional covariances to be estimated."
   ]
  },
  {
   "cell_type": "code",
   "execution_count": 15,
   "id": "d74708dd",
   "metadata": {},
   "outputs": [
    {
     "data": {
      "text/plain": [
       "Index(['id', 'C1', 'C2', 'C3', 'AGE', 'EXP', 'JP', 'JS', 'OC', 'SI', 'EP',\n",
       "       'AC', 'JS1', 'JS2', 'JS3', 'JS4', 'JS5', 'OC1', 'OC2', 'OC3', 'OC4',\n",
       "       'EP1', 'EP2', 'EP3', 'EP4', 'AC1', 'AC2', 'AC3', 'AC4', 'SI1', 'SI2',\n",
       "       'SI3', 'SI4'],\n",
       "      dtype='object')"
      ]
     },
     "execution_count": 15,
     "metadata": {},
     "output_type": "execute_result"
    }
   ],
   "source": [
    "df.columns"
   ]
  },
  {
   "cell_type": "markdown",
   "id": "7235010f",
   "metadata": {},
   "source": [
    " <img src=\"Screenshot%202023-11-15%20at%2013.25.45.png\" width=600 height=600 align=\"center\">"
   ]
  },
  {
   "cell_type": "markdown",
   "id": "ca530c60",
   "metadata": {},
   "source": [
    "\n",
    "**Measurement Model:**\n",
    "\n",
    "The measurement model describes the relationships between latent (unobserved) variables and their observed indicators. Latent variables are constructs that are not directly measured but are inferred from observed variables."
   ]
  },
  {
   "cell_type": "markdown",
   "id": "56ce9208",
   "metadata": {},
   "source": [
    "**Structural Model**\n",
    "\n",
    "The structural model describes the relationships between latent variables. It specifies how the latent variables are related to each other."
   ]
  },
  {
   "cell_type": "markdown",
   "id": "f2923683",
   "metadata": {},
   "source": [
    "**Exploring Examining Correlation Beteen latent variables**"
   ]
  },
  {
   "cell_type": "code",
   "execution_count": 16,
   "id": "3ea75b1d",
   "metadata": {},
   "outputs": [
    {
     "name": "stdout",
     "output_type": "stream",
     "text": [
      "          JS        OC        SI        EP        AC\n",
      "JS  1.000000  0.179911  0.198607  0.205980  0.042383\n",
      "OC  0.179911  1.000000  0.485053  0.432612  0.265396\n",
      "SI  0.198607  0.485053  1.000000  0.493300  0.275105\n",
      "EP  0.205980  0.432612  0.493300  1.000000  0.221320\n",
      "AC  0.042383  0.265396  0.275105  0.221320  1.000000\n"
     ]
    }
   ],
   "source": [
    "selected_df = df[['JS', 'OC', 'SI', 'EP', 'AC']]\n",
    "correlation_matrix = selected_df.corr()\n",
    "print(correlation_matrix)"
   ]
  },
  {
   "cell_type": "code",
   "execution_count": 17,
   "id": "d9a9b992",
   "metadata": {},
   "outputs": [
    {
     "data": {
      "image/png": "[encoded data removed]",
      "text/plain": [
       "<Figure size 800x600 with 2 Axes>"
      ]
     },
     "metadata": {},
     "output_type": "display_data"
    }
   ],
   "source": [
    "import seaborn as sns\n",
    "plt.figure(figsize=(8, 6))\n",
    "sns.heatmap(correlation_matrix, annot=True, cmap='coolwarm', fmt=\".2f\", linewidths=.5)\n",
    "plt.title(\"Correlation Matrix\")\n",
    "plt.show()"
   ]
  },
  {
   "cell_type": "code",
   "execution_count": 18,
   "id": "92fdad25",
   "metadata": {},
   "outputs": [],
   "source": [
    "m1 = \"\"\"\n",
    "    #Measurement equations - more accurately, \n",
    "    #it defines which variables are latent and which variables are used to measure the latent variables. \n",
    "    \n",
    "    #Job satisfaction\n",
    "    JS~ JS1+ JS2 + JS3 + JS4 +JS5 \n",
    "    \n",
    "    #Organizational Commitement\n",
    "    OC ~ OC1 + OC2 +OC3+ OC4\n",
    "    \n",
    "    #Environmental Perceptions\n",
    "    EP ~ EP1 + EP2 + EP3 + EP4\n",
    "    \n",
    "    #Attitudes towards Cowokers\n",
    "    AC ~ AC1 + AC2 + AC3 + AC4\n",
    "    \n",
    "    #Staying intentions\n",
    "    SI ~ SI1 + SI2 + SI3 + SI4\n",
    "    \n",
    "    \n",
    "    #Structural equations\n",
    "    #The structural model describes the relationships between latent variables\n",
    "    \n",
    "    SI~ EP + OC\n",
    "    OC ~ SI + EP\n",
    "    AC ~OC + SI \n",
    "    EP ~ OC+ SI\n",
    "\n",
    "    \n",
    "    #Additional variances and covariances to be estimated in the the matrix. \n",
    "    \n",
    "    OC~~SI\n",
    "    EP~~SI\n",
    "    OC~~EP\n",
    "    SI~~AC\n",
    "\"\"\"\n",
    "semM1 = sem.Model(m1)"
   ]
  },
  {
   "cell_type": "markdown",
   "id": "c4c3a930",
   "metadata": {},
   "source": [
    "## 2. Estimate the model\n",
    "Model defined above can be estimated by using the fit method. \n"
   ]
  },
  {
   "cell_type": "markdown",
   "id": "baca479c",
   "metadata": {},
   "source": [
    "**obj :** str, optional Objective function to minimize. Possible values are 'MLW', 'FIML', 'ULS', 'GLS', 'WLS', 'DWLS'. The default is 'MLW'."
   ]
  },
  {
   "cell_type": "markdown",
   "id": "e2284cda",
   "metadata": {},
   "source": [
    "We will choose DWLS because:\n",
    "The Diagonally Weighted Least Squares (DWLS) estimation method is a robust option in structural equation modeling (SEM)when dealing with ordinal or categorical data like it is our case."
   ]
  },
  {
   "cell_type": "code",
   "execution_count": 19,
   "id": "ab7c6b84",
   "metadata": {},
   "outputs": [],
   "source": [
    "resultDWLS = semM1.fit(df, obj= \"DWLS\")"
   ]
  },
  {
   "cell_type": "code",
   "execution_count": 20,
   "id": "f22372a8",
   "metadata": {},
   "outputs": [
    {
     "name": "stdout",
     "output_type": "stream",
     "text": [
      "Name of objective: DWLS\n",
      "Optimization method: SLSQP\n",
      "Optimization successful.\n",
      "Optimization terminated successfully\n",
      "Objective value: 0.072\n",
      "Number of iterations: 32\n",
      "Params: 0.329 0.144 -0.004 0.059 0.003 -0.001 0.100 0.107 0.203 0.188 0.017 0.088 0.261 0.294 0.089 0.034 -0.050 -0.067 0.049 0.350 0.101 0.114 0.158 0.298 0.361 0.131 -0.206 0.130 0.164 -0.052 -0.016 0.357 0.034 0.041 -0.011 0.313 0.474 0.059\n"
     ]
    }
   ],
   "source": [
    "print(resultDWLS)"
   ]
  },
  {
   "cell_type": "markdown",
   "id": "f487cae4",
   "metadata": {},
   "source": [
    "This gives us some basic information about the estimation process. Most importantly is the success completion of the optimization procedure. In order to see the main result, we can call the inspect method from the sem object as below:"
   ]
  },
  {
   "cell_type": "code",
   "execution_count": 21,
   "id": "2f16d05a",
   "metadata": {},
   "outputs": [
    {
     "name": "stdout",
     "output_type": "stream",
     "text": [
      "   lval  op rval  Estimate  Std. Err    z-value       p-value\n",
      "0    OC   ~  OC1 -0.001290  0.011565  -0.111569  9.111648e-01\n",
      "1    OC   ~  OC2  0.099901  0.023681   4.218630  2.457917e-05\n",
      "2    OC   ~  OC3  0.106910  0.022928   4.662755  3.120040e-06\n",
      "3    OC   ~  OC4  0.203450  0.023178   8.777794  0.000000e+00\n",
      "4    OC   ~   SI  0.187609  0.053660   3.496249  4.718482e-04\n",
      "5    OC   ~   EP  0.016590  0.043599   0.380516  7.035622e-01\n",
      "6    EP   ~  EP1  0.087860  0.008575  10.246438  0.000000e+00\n",
      "7    EP   ~  EP2  0.261321  0.009318  28.045396  0.000000e+00\n",
      "8    EP   ~  EP3  0.294248  0.012840  22.915885  0.000000e+00\n",
      "9    EP   ~  EP4  0.089319  0.008041  11.107817  0.000000e+00\n",
      "10   EP   ~   OC  0.034489  0.020334   1.696135  8.986033e-02\n",
      "11   EP   ~   SI -0.049661  0.020147  -2.464941  1.370359e-02\n",
      "12   SI   ~  SI1  0.298299  0.044784   6.660782  2.723755e-11\n",
      "13   SI   ~  SI2  0.360667  0.046893   7.691279  1.465494e-14\n",
      "14   SI   ~  SI3  0.131446  0.031201   4.212868  2.521480e-05\n",
      "15   SI   ~  SI4 -0.206142  0.024053  -8.570466  0.000000e+00\n",
      "16   SI   ~   EP  0.130238  0.038819   3.355038  7.935414e-04\n",
      "17   SI   ~   OC  0.164296  0.052398   3.135544  1.715356e-03\n",
      "18   JS   ~  JS1  0.329163  0.010991  29.949071  0.000000e+00\n",
      "19   JS   ~  JS2  0.144074  0.009809  14.687327  0.000000e+00\n",
      "20   JS   ~  JS3 -0.003560  0.008314  -0.428197  6.685076e-01\n",
      "21   JS   ~  JS4  0.059362  0.010477   5.666100  1.460847e-08\n",
      "22   JS   ~  JS5  0.003485  0.000131  26.564147  0.000000e+00\n",
      "23   AC   ~  AC1 -0.066710  0.026972  -2.473266  1.338846e-02\n",
      "24   AC   ~  AC2  0.048976  0.021599   2.267532  2.335773e-02\n",
      "25   AC   ~  AC3  0.349695  0.024703  14.156149  0.000000e+00\n",
      "26   AC   ~  AC4  0.101031  0.022062   4.579328  4.664720e-06\n",
      "27   AC   ~   OC  0.113635  0.046230   2.458040  1.396978e-02\n",
      "28   AC   ~   SI  0.158009  0.056368   2.803180  5.060135e-03\n",
      "29   OC  ~~   SI -0.052081  0.030645  -1.699493  8.922641e-02\n",
      "30   OC  ~~   EP -0.015773  0.009784  -1.612139  1.069318e-01\n",
      "31   OC  ~~   OC  0.357029  0.025324  14.098507  0.000000e+00\n",
      "32   EP  ~~   SI  0.033613  0.008798   3.820555  1.331517e-04\n",
      "33   EP  ~~   EP  0.041414  0.003390  12.216918  0.000000e+00\n",
      "34   SI  ~~   SI  0.313258  0.022242  14.084158  0.000000e+00\n",
      "35   SI  ~~   AC -0.010692  0.025686  -0.416254  6.772244e-01\n",
      "36   AC  ~~   AC  0.473538  0.034535  13.711879  0.000000e+00\n",
      "37   JS  ~~   JS  0.058878  0.004174  14.106736  0.000000e+00\n"
     ]
    }
   ],
   "source": [
    "print(semM1.inspect())"
   ]
  },
  {
   "cell_type": "markdown",
   "id": "bef0ded5",
   "metadata": {},
   "source": [
    "## Improving the model "
   ]
  },
  {
   "cell_type": "markdown",
   "id": "ee36af36",
   "metadata": {},
   "source": [
    "### 1) Testing For significance of Parameters\n",
    "The Wald test is commonly used to test the hypothesis that a specific parameter is equal to a hypothesized value. The p-value associated with the Wald test helps determine the statistical significance of the estimated parameter. Only those with a p value lower than 0.05 are significant "
   ]
  },
  {
   "cell_type": "markdown",
   "id": "418c8904",
   "metadata": {},
   "source": [
    "1. **Organizational Commitment (OC):**\n",
    "   - OC1: Not significant (p = 0.911)\n",
    "   - OC2: Highly significant (p = 2.46e-05)\n",
    "   - OC3: Highly significant (p = 3.12e-06)\n",
    "   - OC4: Highly significant (p = 0.0)\n",
    "   \n",
    "   (from structure equations)\n",
    "   - SI: Highly significant (p = 0.000472)\n",
    "   - EP: Not significant (p = 0.703)\n",
    "\n",
    "2. **Environmental Perceptions (EP):**\n",
    "   - EP1: Highly significant (p = 0.0)\n",
    "   - EP2: Highly significant (p = 0.0)\n",
    "   - EP3: Highly significant (p = 0.0)\n",
    "   - EP4: Highly significant (p = 0.0)\n",
    "   \n",
    "   (from structure equations)\n",
    "   - OC: Not ignificant (p = 0.0899)\n",
    "   - SI: Significant (p = 0.0137)\n",
    "\n",
    "3. **Staying Intentions (SI):**\n",
    "   - SI1: Highly significant (p = 2.72e-11)\n",
    "   - SI2: Highly significant (p = 1.47e-14)\n",
    "   - SI3: Highly significant (p = 2.52e-05)\n",
    "   - SI4: Highly significant (p = 0.0)\n",
    "   \n",
    "   (from structure equations)\n",
    "   - EP: Significant (p = 0.000794)\n",
    "   - OC: Significant (p = 0.00172)\n",
    "   - JS: Not significant (p = 0.668)\n",
    "   - AC: Not significant (p = 0.677)\n",
    "\n",
    "4. **Attitudes towards Coworkers (AC):**\n",
    "   - AC1: Significant (p = 0.0134)\n",
    "   - AC2: Significant (p = 0.0234)\n",
    "   - AC3: Highly significant (p = 0.0)\n",
    "   - AC4: Highly significant (p = 4.66e-06)\n",
    "   \n",
    "     (from structure equations)\n",
    "   - OC: Marginally significant (p = 0.0139)\n",
    "   - SI: Significant (p = 0.00506)\n",
    "\n",
    "5. **Job Satisfaction (JS):**\n",
    "   - JS1: Highly significant (p = 0.0)\n",
    "   - JS2: Highly significant (p = 0.0)\n",
    "   - JS3: Not significant (p = 0.669)\n",
    "   - JS4: Highly significant (p = 1.46e-08)\n",
    "   - JS5: Highly significant (p = 0.0)"
   ]
  },
  {
   "cell_type": "markdown",
   "id": "191034fa",
   "metadata": {},
   "source": [
    "### 2) Seeing if covariance matrices are significant"
   ]
  },
  {
   "cell_type": "markdown",
   "id": "f6af0545",
   "metadata": {},
   "source": [
    "1. **Covariances involving Latent Variables:**\n",
    "   - OC ~~ SI: not significant (p = 0.0892)\n",
    "   - OC ~~ EP: not significant (p = 0.107)\n",
    "   - EP ~~ SI: Positive and significant (p = 0.000133)\n",
    "   - EP ~~ EP: Positive and highly significant (p = 0.0)\n",
    "   - SI ~~ AC: not significant (p = 0.677)\n"
   ]
  },
  {
   "cell_type": "code",
   "execution_count": 22,
   "id": "e2dc18f9",
   "metadata": {},
   "outputs": [],
   "source": [
    "m2 = \"\"\"\n",
    "    #Measurement equations - more accurately, \n",
    "    #it defines which variables are latent and which variables are used to measure the latent variables. \n",
    "    \n",
    "    #Job satisfaction\n",
    "    JS~ JS1+ JS2 + JS4 +JS5 \n",
    "    \n",
    "    #Organizational Commitement\n",
    "    OC ~ OC2 +OC3+ OC4\n",
    "    \n",
    "    #Environmental Perceptions\n",
    "    EP ~ EP1 + EP2 + EP3 + EP4\n",
    "    \n",
    "    #Attitudes towards Cowokers\n",
    "    AC ~ AC1 + AC2 + AC3 + AC4\n",
    "    \n",
    "    #Staying intentions\n",
    "    SI ~ SI1 + SI2 + SI3 + SI4\n",
    "    \n",
    "    \n",
    "    #Structural equations\n",
    "    #The structural model describes the relationships between latent variables\n",
    "    \n",
    "    SI~ EP+ OC\n",
    "    OC ~ SI\n",
    "    AC ~ SI \n",
    "    EP ~  SI\n",
    "\n",
    "    \n",
    "    #Additional variances and covariances to be estimated in the the matrix. \n",
    "    \n",
    "    EP ~~ SI\n",
    "    EP ~~ EP\n",
    "    SI ~~ AC\n",
    "\"\"\"\n",
    "semM2 = sem.Model(m2)"
   ]
  },
  {
   "cell_type": "code",
   "execution_count": 23,
   "id": "4e782563",
   "metadata": {},
   "outputs": [],
   "source": [
    "resultDWLS = semM2.fit(df, obj= \"DWLS\")"
   ]
  },
  {
   "cell_type": "code",
   "execution_count": 24,
   "id": "75600acb",
   "metadata": {},
   "outputs": [
    {
     "name": "stdout",
     "output_type": "stream",
     "text": [
      "Name of objective: DWLS\n",
      "Optimization method: SLSQP\n",
      "Optimization successful.\n",
      "Optimization terminated successfully\n",
      "Objective value: 0.072\n",
      "Number of iterations: 27\n",
      "Params: 0.329 0.143 0.058 0.003 0.101 0.113 0.211 0.184 0.086 0.254 0.313 0.092 -0.031 -0.067 0.037 0.354 0.103 0.266 0.243 0.392 0.124 -0.192 0.152 0.159 0.023 0.029 -0.058 0.312 0.455 0.060 0.312\n"
     ]
    }
   ],
   "source": [
    "print(resultDWLS)"
   ]
  },
  {
   "cell_type": "code",
   "execution_count": 25,
   "id": "b5913c49",
   "metadata": {},
   "outputs": [
    {
     "name": "stdout",
     "output_type": "stream",
     "text": [
      "   lval  op rval  Estimate  Std. Err    z-value       p-value\n",
      "0    OC   ~  OC2  0.100680  0.022018   4.572521  4.818915e-06\n",
      "1    OC   ~  OC3  0.112932  0.021385   5.281025  1.284634e-07\n",
      "2    OC   ~  OC4  0.210598  0.021783   9.668049  0.000000e+00\n",
      "3    OC   ~   SI  0.184408  0.037559   4.909892  9.112657e-07\n",
      "4    EP   ~  EP1  0.085806  0.007325  11.714272  0.000000e+00\n",
      "5    EP   ~  EP2  0.253739  0.007984  31.779430  0.000000e+00\n",
      "6    EP   ~  EP3  0.312877  0.010936  28.608853  0.000000e+00\n",
      "7    EP   ~  EP4  0.091869  0.006869  13.373666  0.000000e+00\n",
      "8    EP   ~   SI -0.030941  0.015163  -2.040553  4.129526e-02\n",
      "9    SI   ~  SI1  0.242731  0.044855   5.411428  6.252423e-08\n",
      "10   SI   ~  SI2  0.392380  0.046918   8.363127  0.000000e+00\n",
      "11   SI   ~  SI3  0.124040  0.031402   3.950126  7.810997e-05\n",
      "12   SI   ~  SI4 -0.192376  0.024133  -7.971639  1.554312e-15\n",
      "13   SI   ~   EP  0.151720  0.036175   4.193994  2.740849e-05\n",
      "14   SI   ~   OC  0.158775  0.038258   4.150123  3.322973e-05\n",
      "15   JS   ~  JS1  0.328974  0.011027  29.832255  0.000000e+00\n",
      "16   JS   ~  JS2  0.143352  0.009831  14.582109  0.000000e+00\n",
      "17   JS   ~  JS4  0.057526  0.010237   5.619535  1.914723e-08\n",
      "18   JS   ~  JS5  0.003497  0.000132  26.506348  0.000000e+00\n",
      "19   AC   ~  AC1 -0.066636  0.026930  -2.474425  1.334509e-02\n",
      "20   AC   ~  AC2  0.037003  0.021511   1.720167  8.540201e-02\n",
      "21   AC   ~  AC3  0.354090  0.024626  14.378974  0.000000e+00\n",
      "22   AC   ~  AC4  0.103489  0.022030   4.697755  2.630369e-06\n",
      "23   AC   ~   SI  0.266319  0.046015   5.787680  7.136513e-09\n",
      "24   EP  ~~   SI  0.023373  0.006911   3.382141  7.192312e-04\n",
      "25   EP  ~~   EP  0.029375  0.002254  13.029924  0.000000e+00\n",
      "26   SI  ~~   SI  0.312201  0.022537  13.853110  0.000000e+00\n",
      "27   OC  ~~   OC  0.311749  0.022402  13.916043  0.000000e+00\n",
      "28   SI  ~~   AC -0.058236  0.023543  -2.473603  1.337582e-02\n",
      "29   AC  ~~   AC  0.455462  0.034568  13.175740  0.000000e+00\n",
      "30   JS  ~~   JS  0.059577  0.004223  14.106736  0.000000e+00\n"
     ]
    }
   ],
   "source": [
    "print(semM2.inspect())"
   ]
  },
  {
   "cell_type": "markdown",
   "id": "bb88aa30",
   "metadata": {},
   "source": [
    "**Some Interpretation**"
   ]
  },
  {
   "cell_type": "markdown",
   "id": "94a0ba64",
   "metadata": {},
   "source": [
    "## 3.  Evaluate fit \n"
   ]
  },
  {
   "cell_type": "code",
   "execution_count": 26,
   "id": "edf923be",
   "metadata": {},
   "outputs": [
    {
     "name": "stdout",
     "output_type": "stream",
     "text": [
      "Degrees of Freedom (dof): 269\n",
      "ML (Maximum Likelihood) Value: 0.07163375910087694\n",
      "Chi-square Value and Degrees of Freedom: (28.51023612214902, 1.0)\n",
      "P-value For Chi-square test: 9.32044312840219e-08\n",
      "Root Mean Square Error of Approximation (RMSEA): 0\n",
      "Comparative Fit Index (CFI): 1.0464701012497077\n",
      "Goodness of Fit Index (GFI): 0.9947880343415064\n",
      "Adjusted Goodness of Fit Index (AGFI): 0.9942842755789755\n",
      "Normed Fit Index (NFI): 0.9947880343415065\n",
      "Tucker-Lewis Index (TLI): 1.0509616351994937\n",
      "Akaike Information Criterion (AIC): 59.23333773892234\n",
      "Bayesian Information Criterion (BIC): 182.8133499027399\n"
     ]
    }
   ],
   "source": [
    "from scipy.stats import chi2\n",
    "\n",
    "s = gather_statistics(semM2)\n",
    "print(\"Degrees of Freedom (dof):\", s.dof)\n",
    "print(\"ML (Maximum Likelihood) Value:\", s.ml)\n",
    "print(\"Chi-square Value and Degrees of Freedom:\", s.chi2)\n",
    "chi2_value, dof = s.chi2\n",
    "# Calculate the p-value\n",
    "p_value = 1 - chi2.cdf(chi2_value, dof)\n",
    "print(\"P-value For Chi-square test:\", p_value)\n",
    "print(\"Root Mean Square Error of Approximation (RMSEA):\", s.rmsea)\n",
    "print(\"Comparative Fit Index (CFI):\", s.cfi)\n",
    "print(\"Goodness of Fit Index (GFI):\", s.gfi)\n",
    "print(\"Adjusted Goodness of Fit Index (AGFI):\", s.agfi)\n",
    "print(\"Normed Fit Index (NFI):\", s.nfi)\n",
    "print(\"Tucker-Lewis Index (TLI):\", s.tli)\n",
    "print(\"Akaike Information Criterion (AIC):\", s.aic)\n",
    "print(\"Bayesian Information Criterion (BIC):\", s.bic)\n",
    "\n"
   ]
  },
  {
   "cell_type": "markdown",
   "id": "9565f4d8",
   "metadata": {},
   "source": [
    "## Structural Equation Model Fit Indices Interpretation\n",
    "1. **Degrees of Freedom (dof):** 269\n",
    "   - *Interpretation:* The number of degrees of freedom in the model, indicating the number of parameters. \n",
    "\n",
    "2. **Maximum Likelihood (ML) Value:** 0.0716\n",
    "   - *Interpretation:* The ML value is the maximum likelihood estimate of the population covariance matrix. A lower value suggests a better fit, but the absolute value may vary depending on the scale and nature of the data.\n",
    "\n",
    "3. **Chi-square Value and Degrees of Freedom:** (28.51, 1.0)\n",
    "   - *Interpretation:* The chi-square test assesses the fit of the model to the data. A smaller value relative to degrees of freedom (1.0) indicates a better fit. However, chi-square is sensitive to sample size. In this case, a chi-square value of 28.51 with 1 degree of freedom suggests a relatively good fit. Moreover, we can check that the P value of the test is significant.\n",
    "\n",
    "4. **Root Mean Square Error of Approximation (RMSEA):** 0\n",
    "   - *Interpretation:* RMSEA measures the discrepancy between the model-implied and observed covariance matrices. A value of 0 indicates a perfect fit. RMSEA values below 0.05 are generally considered good.\n",
    "\n",
    "5. **Comparative Fit Index (CFI):** 1.0465\n",
    "   - *Interpretation:* CFI compares the fit of the specified model to a null model. A value close to 1 indicates a good fit like the case of this model. Values slightly above 1 may be an anomaly or a result of specific conditions.\n",
    "\n",
    "6. **Goodness of Fit Index (GFI):** 0.9948\n",
    "   - *Interpretation:* GFI measures how well the model reproduces the observed covariance matrix. Values close to 1 suggest a very good fit. GFI values above 0.90 are generally considered good.\n",
    "\n",
    "7. **Adjusted Goodness of Fit Index (AGFI):** 0.9943\n",
    "   - *Interpretation:* AGFI is an adjustment to GFI considering the number of estimated parameters. A value close to 1 indicates a good fit. AGFI values above 0.90 are generally considered good.\n",
    "\n",
    "8. **Normed Fit Index (NFI):** 0.9948\n",
    "   - *Interpretation:* NFI is another index measuring the proportionate improvement in fit. A value close to 1 indicates a good fit. NFI values above 0.90 are generally considered good.\n",
    "\n",
    "9. **Tucker-Lewis Index (TLI):** 1.051\n",
    "   - *Interpretation:* TLI assesses the improvement of the fit of the model relative to a null model. A value close to 1 indicates a good fit. While TLI values close to 1 are generally considered indicative of a good fit, a value slightly above 1 may be unusual and may warrant further investigation.\n",
    "\n",
    "10. **Akaike Information Criterion (AIC):** 59.23\n",
    "    - *Interpretation:* AIC is a measure of model parsimony, balancing goodness of fit with the number of estimated parameters. Lower values are preferred. AIC is used for model comparison, and a smaller value suggests a better trade-off. An AIC of 59.23 indicates a relatively good trade-off between fit and complexity.\n",
    "\n",
    "11. **Bayesian Information Criterion (BIC):** 182.81\n",
    "    - *Interpretation:* BIC penalizes models for complexity. Lower values are preferred. Similar to AIC, BIC is used for model comparison. Note: It is inherently bigger than AIC because it applies a bigger penalty.\n"
   ]
  },
  {
   "cell_type": "markdown",
   "id": "db6597f7",
   "metadata": {},
   "source": [
    "### Compare it to previous model we had initially before imporving it "
   ]
  },
  {
   "cell_type": "code",
   "execution_count": 27,
   "id": "b20298c3",
   "metadata": {},
   "outputs": [
    {
     "name": "stdout",
     "output_type": "stream",
     "text": [
      "Degrees of Freedom (dof): 313\n",
      "ML (Maximum Likelihood) Value: 0.0720659470928659\n",
      "Chi-square Value and Degrees of Freedom: (28.682246942960628, 1.0)\n",
      "P-value For Chi-square test: 8.528197048551789e-08\n",
      "Root Mean Square Error of Approximation (RMSEA): 0\n",
      "Comparative Fit Index (CFI): 1.0541988462364837\n",
      "Goodness of Fit Index (GFI): 0.9948706838325084\n",
      "Adjusted Goodness of Fit Index (AGFI): 0.9943298933100573\n",
      "Normed Fit Index (NFI): 0.9948706838325084\n",
      "Tucker-Lewis Index (TLI): 1.0599131015904901\n",
      "Akaike Information Criterion (AIC): 73.97991573136716\n",
      "Bayesian Information Criterion (BIC): 225.4650919321758\n"
     ]
    }
   ],
   "source": [
    "from scipy.stats import chi2\n",
    "\n",
    "s = gather_statistics(semM1)\n",
    "print(\"Degrees of Freedom (dof):\", s.dof)\n",
    "print(\"ML (Maximum Likelihood) Value:\", s.ml)\n",
    "print(\"Chi-square Value and Degrees of Freedom:\", s.chi2)\n",
    "chi2_value, dof = s.chi2\n",
    "# Calculate the p-value\n",
    "p_value = 1 - chi2.cdf(chi2_value, dof)\n",
    "print(\"P-value For Chi-square test:\", p_value)\n",
    "print(\"Root Mean Square Error of Approximation (RMSEA):\", s.rmsea)\n",
    "print(\"Comparative Fit Index (CFI):\", s.cfi)\n",
    "print(\"Goodness of Fit Index (GFI):\", s.gfi)\n",
    "print(\"Adjusted Goodness of Fit Index (AGFI):\", s.agfi)\n",
    "print(\"Normed Fit Index (NFI):\", s.nfi)\n",
    "print(\"Tucker-Lewis Index (TLI):\", s.tli)\n",
    "print(\"Akaike Information Criterion (AIC):\", s.aic)\n",
    "print(\"Bayesian Information Criterion (BIC):\", s.bic)\n"
   ]
  },
  {
   "cell_type": "markdown",
   "id": "ce468280",
   "metadata": {},
   "source": [
    "Very similar values but notice how AIC AND BIC are better in improved model. They are lower for model 2."
   ]
  },
  {
   "cell_type": "code",
   "execution_count": null,
   "id": "c3116a96",
   "metadata": {},
   "outputs": [],
   "source": []
  }
 ],
 "metadata": {
  "kernelspec": {
   "display_name": "Python 3 (ipykernel)",
   "language": "python",
   "name": "python3"
  },
  "language_info": {
   "codemirror_mode": {
    "name": "ipython",
    "version": 3
   },
   "file_extension": ".py",
   "mimetype": "text/x-python",
   "name": "python",
   "nbconvert_exporter": "python",
   "pygments_lexer": "ipython3",
   "version": "3.11.4"
  }
 },
 "nbformat": 4,
 "nbformat_minor": 5
}
